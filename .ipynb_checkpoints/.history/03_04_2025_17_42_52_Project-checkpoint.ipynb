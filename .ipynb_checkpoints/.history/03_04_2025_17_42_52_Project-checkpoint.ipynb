{
 "cells": [
  {
   "cell_type": "markdown",
   "id": "d77ee674-b6cb-49ec-95d5-7b3c8c81af8f",
   "metadata": {},
   "source": [
    "\n",
    "# Predicting Subsciption Status of Mincecraft Players Based on the Hours Played and Age\n"
   ]
  },
  {
   "cell_type": "markdown",
   "id": "d547fa62-ba62-4989-a279-5259c536b571",
   "metadata": {},
   "source": [
    "### Intro\n",
    "The data being utilized in the following report was collected by a team of researchers at the University of British Columbia, led by Frank Wood. The aim of collecting the data was to predict how people play video games (through various factors). The particular video game being played is Minecraft (which is an open world simulation game, in which players maneuver through a world made of blocks – they may encounter enemies, build large structures, or just adventure).\n",
    "The gathered data consists of 2 files – (a) a file containing a list of all unique players, which includes data about each player, and (b) a file containing a list of individual playing sessions, which includes data about each session.\n"
   ]
  },
  {
   "cell_type": "markdown",
   "id": "8011bcab-2a95-4fbd-b6ab-87153bf92212",
   "metadata": {},
   "source": [
    "### Method and Results"
   ]
  },
  {
   "cell_type": "code",
   "execution_count": null,
   "id": "528bd543-3a64-4a0e-97b6-4382ee67fd83",
   "metadata": {},
   "outputs": [],
   "source": [
    "library(tidyverse)\n",
    "library(digest)"
   ]
  },
  {
   "cell_type": "markdown",
   "id": "6a94d8db-5449-41c9-9b06-01576ac3c3d2",
   "metadata": {},
   "source": [
    "The first step of our analysis is to load and tidy the players data set. This is done in the next few code cells."
   ]
  },
  {
   "cell_type": "code",
   "execution_count": null,
   "id": "b32d7d54-cefc-4642-b37d-66ccb577f51f",
   "metadata": {},
   "outputs": [],
   "source": [
    "players <- read_csv(\"https://raw.githubusercontent.com/Greatbun123/DSCI-Project/refs/heads/main/players.csv\")\n",
    "if (digest(players, algo = \"sha256\") != \"69f2c670d72960677905601ff3f3a18203cd30f7b9d65ff5c4e6758b8546da48\") {\n",
    "    fail()\n",
    "}\n",
    "\n",
    "players"
   ]
  },
  {
   "cell_type": "code",
   "execution_count": null,
   "id": "07eb2392-2b8d-41d8-a581-a075f5e3a7d2",
   "metadata": {},
   "outputs": [],
   "source": [
    "players_cleaned <- players |> select(-hashedEmail, -name, -gender, -experience)\n",
    "players_cleaned"
   ]
  },
  {
   "cell_type": "markdown",
   "id": "96cf8c19-9d71-43b1-b60f-cb185bbc7203",
   "metadata": {},
   "source": [
    "An initial visualization is then done to see a base for the relationship between subscription status, age, and time played."
   ]
  },
  {
   "cell_type": "code",
   "execution_count": null,
   "id": "d53c06bd-06b3-475c-a5c2-ad6298c40c1d",
   "metadata": {},
   "outputs": [],
   "source": [
    "hours_plot <- players |> ggplot(aes(x = Age, y = played_hours, colour = subscribe)) + geom_point() + ggtitle(\"Minecraft Age and Time Played\") + labs(x = \"Age (years)\", y = \"Time Played (hours)\", colour = \"Subscribed\") + theme_gray(base_size = 15) \n",
    "hours_plot"
   ]
  },
  {
   "cell_type": "markdown",
   "id": "95b07a67-ffb5-4eeb-9106-206f5bdc8834",
   "metadata": {},
   "source": []
  }
 ],
 "metadata": {
  "kernelspec": {
   "display_name": "R",
   "language": "R",
   "name": "ir"
  },
  "language_info": {
   "codemirror_mode": "r",
   "file_extension": ".r",
   "mimetype": "text/x-r-source",
   "name": "R",
   "pygments_lexer": "r",
   "version": "4.3.3"
  }
 },
 "nbformat": 4,
 "nbformat_minor": 5
}
